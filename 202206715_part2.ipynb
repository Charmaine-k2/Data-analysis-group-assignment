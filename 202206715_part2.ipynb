{
 "cells": [
  {
   "cell_type": "code",
   "execution_count": 15,
   "id": "d6208e90-4d0d-476b-91fd-17f99b51dc62",
   "metadata": {},
   "outputs": [],
   "source": [
    "import pandas as pd\n",
    "import numpy as np"
   ]
  },
  {
   "cell_type": "code",
   "execution_count": 16,
   "id": "6725f769-a50d-418f-840e-150500ed5263",
   "metadata": {
    "scrolled": true
   },
   "outputs": [],
   "source": [
    "#Load datasets\n",
    "poverty = pd.read_csv(\"Poverty and Inequality Platform.csv\")\n",
    "Learning=pd.read_csv(\"Learning_poverty.csv\")"
   ]
  },
  {
   "cell_type": "code",
   "execution_count": null,
   "id": "8dea3f25-c0d7-4731-a822-4343ca660ba1",
   "metadata": {},
   "outputs": [],
   "source": [
    "##NUMERICAL ANALYSIS"
   ]
  },
  {
   "cell_type": "code",
   "execution_count": 25,
   "id": "6d09a561-3a04-4623-a6e4-efede192a02c",
   "metadata": {},
   "outputs": [
    {
     "name": "stdout",
     "output_type": "stream",
     "text": [
      "Poverty array:\n",
      " [ 21.36        14.59        31.12       ... 801.36499023 689.65124512\n",
      " 663.31634521]\n",
      "Learning poverty array:\n",
      " [1.23284100e+07 1.00631200e+06 4.97853600e+06 ... 5.33453369e+00\n",
      " 9.72284698e+00 1.48964615e+01]\n"
     ]
    }
   ],
   "source": [
    "#convert to numpy array\n",
    "poverty_values = poverty[\"OBS_VALUE\"].to_numpy()\n",
    "learning_values = Learning[\"OBS_VALUE\"].to_numpy()\n",
    "\n",
    "print(\"Poverty array:\\n\", poverty_values)\n",
    "print(\"Learning poverty array:\\n\", learning_values)"
   ]
  },
  {
   "cell_type": "code",
   "execution_count": 26,
   "id": "be5879e0-5278-49d4-8b94-545128f99cea",
   "metadata": {},
   "outputs": [],
   "source": [
    "#reshape arrays(1 column each, its safer)\n",
    "poverty_matrix = poverty_values.reshape(-1, 1)\n",
    "learning_matrix = learning_values.reshape(-1, 1)"
   ]
  },
  {
   "cell_type": "code",
   "execution_count": 27,
   "id": "86e4d32a-5932-4f44-af13-2520727609d6",
   "metadata": {},
   "outputs": [
    {
     "name": "stdout",
     "output_type": "stream",
     "text": [
      "Average Poverty Value: 65.92805522835705\n",
      "Average Learning Poverty Value: 1027543.7196741581\n"
     ]
    }
   ],
   "source": [
    "#mean\n",
    "poverty_mean = np.mean(poverty_values)\n",
    "learning_mean = np.mean(learning_values)\n",
    "\n",
    "print(\"Average Poverty Value:\", poverty_mean)\n",
    "print(\"Average Learning Poverty Value:\", learning_mean)"
   ]
  },
  {
   "cell_type": "code",
   "execution_count": 28,
   "id": "732b9bf1-2572-4e78-890f-d47b3450f0e1",
   "metadata": {},
   "outputs": [
    {
     "name": "stdout",
     "output_type": "stream",
     "text": [
      "Average Poverty Value: 2.0\n",
      "Average Learning Poverty Value: 26.169919967651367\n"
     ]
    }
   ],
   "source": [
    "#median\n",
    "poverty_median = np.median(poverty_values)\n",
    "learning_median = np.median(learning_values)\n",
    "\n",
    "print(\"Average Poverty Value:\", poverty_median)\n",
    "print(\"Average Learning Poverty Value:\", learning_median)"
   ]
  },
  {
   "cell_type": "code",
   "execution_count": 29,
   "id": "c03c8ce3-adb9-4b6d-8461-a32aa74d4370",
   "metadata": {},
   "outputs": [
    {
     "name": "stdout",
     "output_type": "stream",
     "text": [
      "Poverty Standard Deviation: 307.8964380515006\n",
      "Learning Standard Deviation: 6183062.796078254\n"
     ]
    }
   ],
   "source": [
    "#standard deviation\n",
    "poverty_std = np.std(poverty_values)\n",
    "learning_std = np.std(learning_values)\n",
    "\n",
    "print(\"Poverty Standard Deviation:\", poverty_std)\n",
    "print(\"Learning Standard Deviation:\", learning_std)"
   ]
  },
  {
   "cell_type": "code",
   "execution_count": 30,
   "id": "737e62c0-d248-442f-88cf-8524158521de",
   "metadata": {},
   "outputs": [],
   "source": [
    "#making sure arrays are the same length\n",
    "min_len = min(len(poverty_values), len(learning_values))"
   ]
  },
  {
   "cell_type": "code",
   "execution_count": 31,
   "id": "54acf2f3-cad8-4256-836d-89fc27689db3",
   "metadata": {},
   "outputs": [
    {
     "name": "stdout",
     "output_type": "stream",
     "text": [
      "First 10 differences (Poverty - Learning):\n",
      " [-12328388.64  -1006297.41  -4978504.88  -5053476.97   -408851.41\n",
      "    -32056.41   -167689.8     -96962.88   -985701.48   -486507.4 ]\n"
     ]
    }
   ],
   "source": [
    "#Differences(poverty - learning)\n",
    "diff = poverty_values[:min_len] - learning_values[:min_len]\n",
    "\n",
    "print(\"First 10 differences (Poverty - Learning):\\n\", diff[:10])"
   ]
  },
  {
   "cell_type": "code",
   "execution_count": 32,
   "id": "b05b9424-3339-4d59-8a06-e9a6d1732d7f",
   "metadata": {},
   "outputs": [
    {
     "name": "stdout",
     "output_type": "stream",
     "text": [
      "Yearly % change in poverty:\n",
      " 0          0.000000\n",
      "1        -31.694757\n",
      "2        113.296779\n",
      "3        -98.296915\n",
      "4        105.660377\n",
      "            ...    \n",
      "29968     -6.378831\n",
      "29969     -5.328623\n",
      "29970      1.603618\n",
      "29971    -13.940432\n",
      "29972     -3.818582\n",
      "Length: 29973, dtype: float64\n",
      "Yearly % change in learning poverty:\n",
      " 0         0.000000\n",
      "1       -91.837455\n",
      "2       394.730859\n",
      "3         1.505292\n",
      "4       -91.909482\n",
      "           ...    \n",
      "9324     82.262360\n",
      "9325    -22.341460\n",
      "9326    -29.349736\n",
      "9327     82.262360\n",
      "9328     53.210901\n",
      "Length: 9329, dtype: float64\n"
     ]
    }
   ],
   "source": [
    "#year-to-year percentage change for both datasets\n",
    "poverty_change = pd.Series(poverty_values).pct_change() * 100\n",
    "poverty_change = poverty_change.fillna(0)  # Replace NaNs with 0\n",
    "\n",
    "learning_change = pd.Series(learning_values).pct_change() * 100\n",
    "learning_change = learning_change.fillna(0)\n",
    "\n",
    "print(\"Yearly % change in poverty:\\n\", poverty_change)\n",
    "print(\"Yearly % change in learning poverty:\\n\", learning_change)"
   ]
  },
  {
   "cell_type": "code",
   "execution_count": 33,
   "id": "9070efd7-ade4-4da5-813f-f8f18ca3604f",
   "metadata": {},
   "outputs": [
    {
     "name": "stdout",
     "output_type": "stream",
     "text": [
      "Correlation between Poverty and Learning: -0.05838204022457177\n"
     ]
    }
   ],
   "source": [
    "#correlation\n",
    "corr = np.corrcoef(poverty_values[:min_len], learning_values[:min_len])[0, 1]\n",
    "\n",
    "print(\"Correlation between Poverty and Learning:\", corr)"
   ]
  }
 ],
 "metadata": {
  "kernelspec": {
   "display_name": "Python 3 (ipykernel)",
   "language": "python",
   "name": "python3"
  },
  "language_info": {
   "codemirror_mode": {
    "name": "ipython",
    "version": 3
   },
   "file_extension": ".py",
   "mimetype": "text/x-python",
   "name": "python",
   "nbconvert_exporter": "python",
   "pygments_lexer": "ipython3",
   "version": "3.11.9"
  }
 },
 "nbformat": 4,
 "nbformat_minor": 5
}
